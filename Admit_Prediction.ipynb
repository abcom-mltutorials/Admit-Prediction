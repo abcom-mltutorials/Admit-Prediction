{
  "nbformat": 4,
  "nbformat_minor": 0,
  "metadata": {
    "colab": {
      "name": "Copy of Admit Prediction.ipynb",
      "provenance": [],
      "collapsed_sections": []
    },
    "kernelspec": {
      "name": "python3",
      "display_name": "Python 3"
    },
    "accelerator": "GPU"
  },
  "cells": [
    {
      "cell_type": "markdown",
      "metadata": {
        "id": "lrvaB99k42Rv",
        "colab_type": "text"
      },
      "source": [
        "# Admission Predictor"
      ]
    },
    {
      "cell_type": "markdown",
      "metadata": {
        "id": "VX5CRIMr6gQ9",
        "colab_type": "text"
      },
      "source": [
        "Copyright @ 2020 **ABCOM Information Systems Pvt. Ltd.** All Rights Reserved.\n",
        "\n",
        "Licensed under the Apache License, Version 2.0 (the \"License\"); you may not use this file except in compliance with the License. You may obtain a copy of the License at\n",
        "\n",
        "http://www.apache.org/licenses/LICENSE-2.0\n",
        "\n",
        "Unless required by applicable law or agreed to in writing, software distributed under the License is distributed on an \"AS IS\" BASIS, WITHOUT WARRANTIES OR CONDITIONS OF ANY KIND, either express or implied.\n",
        "\n",
        "See the License for the specific language governing permissions and limitations under the License."
      ]
    },
    {
      "cell_type": "code",
      "metadata": {
        "id": "u-YmwMo759wo",
        "colab_type": "code",
        "colab": {}
      },
      "source": [
        "# import statements\n",
        "import numpy as np\n",
        "import pandas as pd\n",
        "import matplotlib.pyplot as plt\n",
        "\n",
        "from sklearn.model_selection import train_test_split\n",
        "from sklearn.linear_model import LinearRegression"
      ],
      "execution_count": 1,
      "outputs": []
    },
    {
      "cell_type": "markdown",
      "metadata": {
        "id": "GIPIWemlai12",
        "colab_type": "text"
      },
      "source": [
        "# Loading Data"
      ]
    },
    {
      "cell_type": "code",
      "metadata": {
        "id": "cMwd6_bP6h_Z",
        "colab_type": "code",
        "colab": {}
      },
      "source": [
        "# loading the data from csv file saved at the url\n",
        "data = pd.read_csv(\"https://raw.githubusercontent.com/abcom-mltutorials/Admit-Prediction/master/Admission_Predict_Ver1.1.csv\")"
      ],
      "execution_count": 2,
      "outputs": []
    },
    {
      "cell_type": "code",
      "metadata": {
        "id": "aBesGPo17YK6",
        "colab_type": "code",
        "colab": {
          "base_uri": "https://localhost:8080/",
          "height": 238
        },
        "outputId": "c0106eca-64ec-45d6-f79a-8d533754858a"
      },
      "source": [
        "# observing the data with the first 5 rows \n",
        "data.head()"
      ],
      "execution_count": 3,
      "outputs": [
        {
          "output_type": "execute_result",
          "data": {
            "text/html": [
              "<div>\n",
              "<style scoped>\n",
              "    .dataframe tbody tr th:only-of-type {\n",
              "        vertical-align: middle;\n",
              "    }\n",
              "\n",
              "    .dataframe tbody tr th {\n",
              "        vertical-align: top;\n",
              "    }\n",
              "\n",
              "    .dataframe thead th {\n",
              "        text-align: right;\n",
              "    }\n",
              "</style>\n",
              "<table border=\"1\" class=\"dataframe\">\n",
              "  <thead>\n",
              "    <tr style=\"text-align: right;\">\n",
              "      <th></th>\n",
              "      <th>Serial No.</th>\n",
              "      <th>GRE Score</th>\n",
              "      <th>TOEFL Score</th>\n",
              "      <th>University Rating</th>\n",
              "      <th>SOP</th>\n",
              "      <th>LOR</th>\n",
              "      <th>CGPA</th>\n",
              "      <th>Research</th>\n",
              "      <th>Chance of Admit</th>\n",
              "    </tr>\n",
              "  </thead>\n",
              "  <tbody>\n",
              "    <tr>\n",
              "      <th>0</th>\n",
              "      <td>1</td>\n",
              "      <td>337</td>\n",
              "      <td>118</td>\n",
              "      <td>4</td>\n",
              "      <td>4.5</td>\n",
              "      <td>4.5</td>\n",
              "      <td>9.65</td>\n",
              "      <td>1</td>\n",
              "      <td>0.92</td>\n",
              "    </tr>\n",
              "    <tr>\n",
              "      <th>1</th>\n",
              "      <td>2</td>\n",
              "      <td>324</td>\n",
              "      <td>107</td>\n",
              "      <td>4</td>\n",
              "      <td>4.0</td>\n",
              "      <td>4.5</td>\n",
              "      <td>8.87</td>\n",
              "      <td>1</td>\n",
              "      <td>0.76</td>\n",
              "    </tr>\n",
              "    <tr>\n",
              "      <th>2</th>\n",
              "      <td>3</td>\n",
              "      <td>316</td>\n",
              "      <td>104</td>\n",
              "      <td>3</td>\n",
              "      <td>3.0</td>\n",
              "      <td>3.5</td>\n",
              "      <td>8.00</td>\n",
              "      <td>1</td>\n",
              "      <td>0.72</td>\n",
              "    </tr>\n",
              "    <tr>\n",
              "      <th>3</th>\n",
              "      <td>4</td>\n",
              "      <td>322</td>\n",
              "      <td>110</td>\n",
              "      <td>3</td>\n",
              "      <td>3.5</td>\n",
              "      <td>2.5</td>\n",
              "      <td>8.67</td>\n",
              "      <td>1</td>\n",
              "      <td>0.80</td>\n",
              "    </tr>\n",
              "    <tr>\n",
              "      <th>4</th>\n",
              "      <td>5</td>\n",
              "      <td>314</td>\n",
              "      <td>103</td>\n",
              "      <td>2</td>\n",
              "      <td>2.0</td>\n",
              "      <td>3.0</td>\n",
              "      <td>8.21</td>\n",
              "      <td>0</td>\n",
              "      <td>0.65</td>\n",
              "    </tr>\n",
              "  </tbody>\n",
              "</table>\n",
              "</div>"
            ],
            "text/plain": [
              "   Serial No.  GRE Score  TOEFL Score  ...  CGPA  Research  Chance of Admit \n",
              "0           1        337          118  ...  9.65         1              0.92\n",
              "1           2        324          107  ...  8.87         1              0.76\n",
              "2           3        316          104  ...  8.00         1              0.72\n",
              "3           4        322          110  ...  8.67         1              0.80\n",
              "4           5        314          103  ...  8.21         0              0.65\n",
              "\n",
              "[5 rows x 9 columns]"
            ]
          },
          "metadata": {
            "tags": []
          },
          "execution_count": 3
        }
      ]
    },
    {
      "cell_type": "code",
      "metadata": {
        "id": "VYk7MC2H7cNZ",
        "colab_type": "code",
        "colab": {
          "base_uri": "https://localhost:8080/",
          "height": 34
        },
        "outputId": "cba64014-79ce-427c-e090-cc10ba268ec8"
      },
      "source": [
        "# finding the no. of rows and columns in the dataset\n",
        "data.shape"
      ],
      "execution_count": 4,
      "outputs": [
        {
          "output_type": "execute_result",
          "data": {
            "text/plain": [
              "(500, 9)"
            ]
          },
          "metadata": {
            "tags": []
          },
          "execution_count": 4
        }
      ]
    },
    {
      "cell_type": "markdown",
      "metadata": {
        "id": "s5eWqPnPaoNU",
        "colab_type": "text"
      },
      "source": [
        "# Data Preprocessing"
      ]
    },
    {
      "cell_type": "code",
      "metadata": {
        "id": "5fINaTg3AGpS",
        "colab_type": "code",
        "colab": {
          "base_uri": "https://localhost:8080/",
          "height": 187
        },
        "outputId": "726fc1d3-2bd3-4c2e-dd58-0992762a8be8"
      },
      "source": [
        "# checking null items\n",
        "print(data.isna().sum())"
      ],
      "execution_count": 5,
      "outputs": [
        {
          "output_type": "stream",
          "text": [
            "Serial No.           0\n",
            "GRE Score            0\n",
            "TOEFL Score          0\n",
            "University Rating    0\n",
            "SOP                  0\n",
            "LOR                  0\n",
            "CGPA                 0\n",
            "Research             0\n",
            "Chance of Admit      0\n",
            "dtype: int64\n"
          ],
          "name": "stdout"
        }
      ]
    },
    {
      "cell_type": "code",
      "metadata": {
        "id": "dG3nlT9n8Dsv",
        "colab_type": "code",
        "colab": {}
      },
      "source": [
        "# We use drop function to delete the column\n",
        "data = data.drop([\"Serial No.\"], axis = 1)"
      ],
      "execution_count": 6,
      "outputs": []
    },
    {
      "cell_type": "markdown",
      "metadata": {
        "id": "QUalNseiacoD",
        "colab_type": "text"
      },
      "source": [
        "# Extracting Features/Target"
      ]
    },
    {
      "cell_type": "code",
      "metadata": {
        "id": "xtxLfeF_8gZ5",
        "colab_type": "code",
        "colab": {}
      },
      "source": [
        "# Extractig features\n",
        "X = data.iloc[:,:7]"
      ],
      "execution_count": 7,
      "outputs": []
    },
    {
      "cell_type": "code",
      "metadata": {
        "id": "YrIEsYJMcmkx",
        "colab_type": "code",
        "colab": {
          "base_uri": "https://localhost:8080/",
          "height": 255
        },
        "outputId": "6169bbce-fa7d-4348-a5fd-5a05d9ac92c1"
      },
      "source": [
        "X.info()"
      ],
      "execution_count": 8,
      "outputs": [
        {
          "output_type": "stream",
          "text": [
            "<class 'pandas.core.frame.DataFrame'>\n",
            "RangeIndex: 500 entries, 0 to 499\n",
            "Data columns (total 7 columns):\n",
            " #   Column             Non-Null Count  Dtype  \n",
            "---  ------             --------------  -----  \n",
            " 0   GRE Score          500 non-null    int64  \n",
            " 1   TOEFL Score        500 non-null    int64  \n",
            " 2   University Rating  500 non-null    int64  \n",
            " 3   SOP                500 non-null    float64\n",
            " 4   LOR                500 non-null    float64\n",
            " 5   CGPA               500 non-null    float64\n",
            " 6   Research           500 non-null    int64  \n",
            "dtypes: float64(3), int64(4)\n",
            "memory usage: 27.5 KB\n"
          ],
          "name": "stdout"
        }
      ]
    },
    {
      "cell_type": "code",
      "metadata": {
        "id": "FEOa7xha-RlH",
        "colab_type": "code",
        "colab": {}
      },
      "source": [
        "# Extracting target\n",
        "y = data.iloc[:,7:]"
      ],
      "execution_count": 9,
      "outputs": []
    },
    {
      "cell_type": "code",
      "metadata": {
        "id": "xfrdsgOcdcea",
        "colab_type": "code",
        "colab": {
          "base_uri": "https://localhost:8080/",
          "height": 153
        },
        "outputId": "e4e3dc0e-29d1-4db3-994e-d5f1224ad6b8"
      },
      "source": [
        "y.info()"
      ],
      "execution_count": 10,
      "outputs": [
        {
          "output_type": "stream",
          "text": [
            "<class 'pandas.core.frame.DataFrame'>\n",
            "RangeIndex: 500 entries, 0 to 499\n",
            "Data columns (total 1 columns):\n",
            " #   Column            Non-Null Count  Dtype  \n",
            "---  ------            --------------  -----  \n",
            " 0   Chance of Admit   500 non-null    float64\n",
            "dtypes: float64(1)\n",
            "memory usage: 4.0 KB\n"
          ],
          "name": "stdout"
        }
      ]
    },
    {
      "cell_type": "code",
      "metadata": {
        "id": "X5nA9PJe-p-D",
        "colab_type": "code",
        "colab": {}
      },
      "source": [
        "# Split data into tarining and testing sets\n",
        "X_train,X_test,Y_train,Y_test = train_test_split(X, y, \n",
        "                                                 random_state = 10, \n",
        "                                                 shuffle = True, \n",
        "                                                 test_size = 0.2)"
      ],
      "execution_count": 11,
      "outputs": []
    },
    {
      "cell_type": "markdown",
      "metadata": {
        "id": "nFQBwJLusCx2",
        "colab_type": "text"
      },
      "source": [
        "# Visualizing Training Data"
      ]
    },
    {
      "cell_type": "markdown",
      "metadata": {
        "id": "bajwx_9v0aoE",
        "colab_type": "text"
      },
      "source": [
        "## GRE v/s Admit"
      ]
    },
    {
      "cell_type": "code",
      "metadata": {
        "id": "jAB1uGR29IzY",
        "colab_type": "code",
        "colab": {
          "base_uri": "https://localhost:8080/",
          "height": 283
        },
        "outputId": "ddb4b14d-fb15-4855-c9fb-2f563db2435a"
      },
      "source": [
        "# Visualize the effect of GRE Score on chance of getting an admit  \n",
        "plt.scatter(X_train[\"GRE Score\"],Y_train, color = \"red\")\n",
        "plt.xlabel(\"GRE Score\")\n",
        "plt.ylabel(\"Chance of Admission\")\n",
        "plt.legend([\"GRE Score\"])\n",
        "plt.show()"
      ],
      "execution_count": 12,
      "outputs": [
        {
          "output_type": "display_data",
          "data": {
            "image/png": "[encoded data removed]",
            "text/plain": [
              "<Figure size 432x288 with 1 Axes>"
            ]
          },
          "metadata": {
            "tags": [],
            "needs_background": "light"
          }
        }
      ]
    },
    {
      "cell_type": "markdown",
      "metadata": {
        "id": "0-9DPmcT0ofY",
        "colab_type": "text"
      },
      "source": [
        "## CGPA v/s Admit"
      ]
    },
    {
      "cell_type": "code",
      "metadata": {
        "id": "gy92JWI_zCrH",
        "colab_type": "code",
        "colab": {
          "base_uri": "https://localhost:8080/",
          "height": 283
        },
        "outputId": "52bb9f0e-cdbb-429d-c567-a25ac69fb857"
      },
      "source": [
        "# Visualize the effect of CGPA on chance of of getting an admit. \n",
        "plt.scatter(X_train[\"CGPA\"],Y_train, color = \"green\")\n",
        "plt.xlabel(\"CGPA\")\n",
        "plt.ylabel(\"Chance of Admission\")\n",
        "plt.legend([\"CGPA\"])\n",
        "plt.show()"
      ],
      "execution_count": 13,
      "outputs": [
        {
          "output_type": "display_data",
          "data": {
            "image/png": "[encoded data removed]",
            "text/plain": [
              "<Figure size 432x288 with 1 Axes>"
            ]
          },
          "metadata": {
            "tags": [],
            "needs_background": "light"
          }
        }
      ]
    },
    {
      "cell_type": "markdown",
      "metadata": {
        "id": "iY1aq7bc0uJw",
        "colab_type": "text"
      },
      "source": [
        "## University Rating v/s Admit"
      ]
    },
    {
      "cell_type": "code",
      "metadata": {
        "id": "76jgh99Wy8Io",
        "colab_type": "code",
        "colab": {
          "base_uri": "https://localhost:8080/",
          "height": 283
        },
        "outputId": "31ef0c7e-f65b-4176-e28f-aa0fb08ccf6c"
      },
      "source": [
        "# Visulize the University Rating vs. Chance of Admission.   \n",
        "plt.scatter(X_train[\"University Rating\"],Y_train, color = \"blue\")\n",
        "plt.xlabel(\"University Rating\")\n",
        "plt.ylabel(\"Chance of Admission\")\n",
        "plt.legend([\"University Rating\"])\n",
        "plt.show()"
      ],
      "execution_count": 14,
      "outputs": [
        {
          "output_type": "display_data",
          "data": {
            "image/png": "[encoded data removed]",
            "text/plain": [
              "<Figure size 432x288 with 1 Axes>"
            ]
          },
          "metadata": {
            "tags": [],
            "needs_background": "light"
          }
        }
      ]
    },
    {
      "cell_type": "markdown",
      "metadata": {
        "id": "mKyrc4r-ysCS",
        "colab_type": "text"
      },
      "source": [
        "# Model Building"
      ]
    },
    {
      "cell_type": "code",
      "metadata": {
        "id": "5S9rdHcqyze8",
        "colab_type": "code",
        "colab": {}
      },
      "source": [
        "# Loading the classifier from the sklearn\n",
        "classifier = LinearRegression()"
      ],
      "execution_count": 15,
      "outputs": []
    },
    {
      "cell_type": "code",
      "metadata": {
        "id": "ODjZFQVQy8ln",
        "colab_type": "code",
        "colab": {
          "base_uri": "https://localhost:8080/",
          "height": 54
        },
        "outputId": "5ce88d2a-42e3-462f-e10b-ba02f6aa20a7"
      },
      "source": [
        "# Fitting the classifier onto the training data\n",
        "classifier.fit(X_train,Y_train)"
      ],
      "execution_count": 16,
      "outputs": [
        {
          "output_type": "execute_result",
          "data": {
            "text/plain": [
              "LinearRegression(copy_X=True, fit_intercept=True, n_jobs=None, normalize=False)"
            ]
          },
          "metadata": {
            "tags": []
          },
          "execution_count": 16
        }
      ]
    },
    {
      "cell_type": "markdown",
      "metadata": {
        "id": "TtfVAXrf0408",
        "colab_type": "text"
      },
      "source": [
        "# Inference"
      ]
    },
    {
      "cell_type": "code",
      "metadata": {
        "id": "y0JMvUpwBJ43",
        "colab_type": "code",
        "colab": {}
      },
      "source": [
        "#Using the classifier to predict the test data and storing it in prediction_of_y array\n",
        "prediction_of_Y = classifier.predict(X_test)"
      ],
      "execution_count": 17,
      "outputs": []
    },
    {
      "cell_type": "code",
      "metadata": {
        "id": "Np_fF56kBjxw",
        "colab_type": "code",
        "colab": {
          "base_uri": "https://localhost:8080/",
          "height": 119
        },
        "outputId": "4fa82852-17cb-4bad-edc8-33a6d737d7f3"
      },
      "source": [
        "# Printing the first six predicted values\n",
        "prediction_of_Y = np.round(prediction_of_Y, decimals = 3)\n",
        "prediction_of_Y[:6]"
      ],
      "execution_count": 18,
      "outputs": [
        {
          "output_type": "execute_result",
          "data": {
            "text/plain": [
              "array([[0.909],\n",
              "       [0.904],\n",
              "       [0.768],\n",
              "       [0.849],\n",
              "       [0.717],\n",
              "       [0.751]])"
            ]
          },
          "metadata": {
            "tags": []
          },
          "execution_count": 18
        }
      ]
    },
    {
      "cell_type": "code",
      "metadata": {
        "id": "76bz0QrTVZ3a",
        "colab_type": "code",
        "colab": {
          "base_uri": "https://localhost:8080/",
          "height": 377
        },
        "outputId": "18d146d9-f3ff-4a71-a16d-a8c8396eb990"
      },
      "source": [
        "# Comparision of predicted data(prediction_of_Y) and actual data(Y_test)\n",
        "Y_test[\"Predicted chance of Admit\"] = prediction_of_Y.tolist()\n",
        "print(Y_test)"
      ],
      "execution_count": 19,
      "outputs": [
        {
          "output_type": "stream",
          "text": [
            "     Chance of Admit  Predicted chance of Admit\n",
            "151              0.94                   [0.909]\n",
            "424              0.91                   [0.904]\n",
            "154              0.80                   [0.768]\n",
            "190              0.90                   [0.849]\n",
            "131              0.77                   [0.717]\n",
            "..                ...                       ...\n",
            "50               0.76                   [0.684]\n",
            "264              0.75                   [0.756]\n",
            "34               0.94                   [0.954]\n",
            "78               0.44                   [0.509]\n",
            "223              0.71                   [0.678]\n",
            "\n",
            "[100 rows x 2 columns]\n"
          ],
          "name": "stdout"
        },
        {
          "output_type": "stream",
          "text": [
            "/usr/local/lib/python3.6/dist-packages/ipykernel_launcher.py:2: SettingWithCopyWarning: \n",
            "A value is trying to be set on a copy of a slice from a DataFrame.\n",
            "Try using .loc[row_indexer,col_indexer] = value instead\n",
            "\n",
            "See the caveats in the documentation: https://pandas.pydata.org/pandas-docs/stable/user_guide/indexing.html#returning-a-view-versus-a-copy\n",
            "  \n"
          ],
          "name": "stderr"
        }
      ]
    },
    {
      "cell_type": "code",
      "metadata": {
        "id": "UdvaqE2lWQ5z",
        "colab_type": "code",
        "colab": {}
      },
      "source": [
        "# Dropping the added column to keep the dimensions of Y_test intact\n",
        "Y_test = Y_test.drop([\"Predicted chance of Admit\"], axis = 1)"
      ],
      "execution_count": 20,
      "outputs": []
    },
    {
      "cell_type": "markdown",
      "metadata": {
        "id": "sJ2GOZmY4d9d",
        "colab_type": "text"
      },
      "source": [
        "# Prediction Visualizations"
      ]
    },
    {
      "cell_type": "code",
      "metadata": {
        "id": "iSewXLREwv_Y",
        "colab_type": "code",
        "colab": {
          "base_uri": "https://localhost:8080/",
          "height": 279
        },
        "outputId": "f680b62b-0037-4f83-a1aa-f07360fadb21"
      },
      "source": [
        "# Visualize the difference in graph for same parameter \"GRE Score\" for actual chance & prediction chance. \n",
        "plt.scatter(X_test[\"GRE Score\"],Y_test, color = \"red\")\n",
        "plt.scatter(X_test[\"GRE Score\"], prediction_of_Y, color='purple')\n",
        "plt.xlabel(\"GRE Score\")\n",
        "plt.ylabel(\"Chance of Admission\")\n",
        "plt.legend([\"Actual chance for GRE Score\",\"Predicted chance for GRE Score\"])\n",
        "plt.show()"
      ],
      "execution_count": 21,
      "outputs": [
        {
          "output_type": "display_data",
          "data": {
            "image/png": "[encoded data removed]",
            "text/plain": [
              "<Figure size 432x288 with 1 Axes>"
            ]
          },
          "metadata": {
            "tags": [],
            "needs_background": "light"
          }
        }
      ]
    },
    {
      "cell_type": "code",
      "metadata": {
        "id": "I3yJ64jXmPc3",
        "colab_type": "code",
        "colab": {
          "base_uri": "https://localhost:8080/",
          "height": 279
        },
        "outputId": "ffdce330-cab4-434d-bcbe-54c7a65a1f02"
      },
      "source": [
        "# Visualize the difference in graph for same parameter \"SOP\" for actual chance & prediction chance.\n",
        "plt.scatter(X_test[\"SOP\"],Y_test, color = \"blue\")\n",
        "plt.scatter(X_test[\"SOP\"], prediction_of_Y, color='orange')\n",
        "plt.xlabel(\"SOP\")\n",
        "plt.ylabel(\"Chance of Admission\")\n",
        "plt.legend([\"Actual chance for SOP\",\"Predicted chance for SOP\"])\n",
        "plt.show()"
      ],
      "execution_count": 22,
      "outputs": [
        {
          "output_type": "display_data",
          "data": {
            "image/png": "[encoded data removed]",
            "text/plain": [
              "<Figure size 432x288 with 1 Axes>"
            ]
          },
          "metadata": {
            "tags": [],
            "needs_background": "light"
          }
        }
      ]
    },
    {
      "cell_type": "markdown",
      "metadata": {
        "id": "w46RubAmyCHZ",
        "colab_type": "text"
      },
      "source": [
        "# Model Accuracy"
      ]
    },
    {
      "cell_type": "code",
      "metadata": {
        "id": "zad6OYglBmT_",
        "colab_type": "code",
        "colab": {
          "base_uri": "https://localhost:8080/",
          "height": 34
        },
        "outputId": "2a9bf9cb-4b28-47a8-bf52-2ae6004eb00f"
      },
      "source": [
        "print('Accuracy: {:.2f}'.format(classifier.score(X_test, Y_test)))"
      ],
      "execution_count": 23,
      "outputs": [
        {
          "output_type": "stream",
          "text": [
            "Accuracy: 0.80\n"
          ],
          "name": "stdout"
        }
      ]
    },
    {
      "cell_type": "markdown",
      "metadata": {
        "id": "q4qBO3qhyLPV",
        "colab_type": "text"
      },
      "source": [
        "# Inference on unseen data"
      ]
    },
    {
      "cell_type": "code",
      "metadata": {
        "id": "UCwps3hdCIJr",
        "colab_type": "code",
        "colab": {
          "base_uri": "https://localhost:8080/",
          "height": 51
        },
        "outputId": "8591b5c1-738a-4d51-8028-d201d292eef4"
      },
      "source": [
        "# User - specified predictions. Adding my data to X_test dataset:\n",
        "my_data = X_test.append(pd.Series([332, 107, 5, 4.5, 4.0, 9.34, 0], index = X_test.columns), ignore_index = True)\n",
        "\n",
        "# Checking the dataframe for our values:\n",
        "print(my_data[-1:])"
      ],
      "execution_count": 24,
      "outputs": [
        {
          "output_type": "stream",
          "text": [
            "     GRE Score  TOEFL Score  University Rating  SOP  LOR   CGPA  Research\n",
            "100      332.0        107.0                5.0  4.5   4.0  9.34       0.0\n"
          ],
          "name": "stdout"
        }
      ]
    },
    {
      "cell_type": "code",
      "metadata": {
        "id": "XC_sN4i69cI-",
        "colab_type": "code",
        "colab": {
          "base_uri": "https://localhost:8080/",
          "height": 34
        },
        "outputId": "81281669-be96-49e7-882e-225922633c41"
      },
      "source": [
        "#Checking my chances of admission. # As the new record is saved at the end array the result will be the last value. \n",
        "my_chance = classifier.predict(my_data)\n",
        "my_chance[-1]"
      ],
      "execution_count": 25,
      "outputs": [
        {
          "output_type": "execute_result",
          "data": {
            "text/plain": [
              "array([0.8595167])"
            ]
          },
          "metadata": {
            "tags": []
          },
          "execution_count": 25
        }
      ]
    },
    {
      "cell_type": "markdown",
      "metadata": {
        "id": "-kw08yccpJwU",
        "colab_type": "text"
      },
      "source": [
        "So this means I have a pretty good chance of around of getting an admit. Similarly you can check the admission chance for more than one record as well.Let's see how to do that."
      ]
    },
    {
      "cell_type": "markdown",
      "metadata": {
        "id": "WYJm2c2d0gFz",
        "colab_type": "text"
      },
      "source": [
        "# Inference on multiple records"
      ]
    },
    {
      "cell_type": "code",
      "metadata": {
        "id": "_Rpx8OLypu8x",
        "colab_type": "code",
        "colab": {
          "base_uri": "https://localhost:8080/",
          "height": 170
        },
        "outputId": "6bd81477-37c9-4ad9-fbf1-ba698663fdcf"
      },
      "source": [
        "# Evaluating admit chance for multiple user-defined records:\n",
        "list_of_records = [pd.Series([309, 90, 4, 4, 3.5, 7.14, 0], index = X_test.columns),\n",
        "                   pd.Series([300, 99, 3, 3.5, 3.5, 8.09, 0], index = X_test.columns),\n",
        "                   pd.Series([304, 108, 4, 4, 3.5, 7.91, 0], index = X_test.columns),\n",
        "                   pd.Series([295, 113, 5, 4.5, 4, 8.76, 1], index = X_test.columns)]\n",
        "user_defined = X_test.append(list_of_records, ignore_index= True)\n",
        "print(user_defined[-4:]) \n",
        "\n",
        "chances = classifier.predict(user_defined)\n",
        "chances[-4:]"
      ],
      "execution_count": 26,
      "outputs": [
        {
          "output_type": "stream",
          "text": [
            "     GRE Score  TOEFL Score  University Rating  SOP  LOR   CGPA  Research\n",
            "100      309.0         90.0                4.0  4.0   3.5  7.14       0.0\n",
            "101      300.0         99.0                3.0  3.5   3.5  8.09       0.0\n",
            "102      304.0        108.0                4.0  4.0   3.5  7.91       0.0\n",
            "103      295.0        113.0                5.0  4.5   4.0  8.76       1.0\n"
          ],
          "name": "stdout"
        },
        {
          "output_type": "execute_result",
          "data": {
            "text/plain": [
              "array([[0.50153561],\n",
              "       [0.59913325],\n",
              "       [0.61218126],\n",
              "       [0.73653932]])"
            ]
          },
          "metadata": {
            "tags": []
          },
          "execution_count": 26
        }
      ]
    },
    {
      "cell_type": "markdown",
      "metadata": {
        "id": "QT5I69sR0p7E",
        "colab_type": "text"
      },
      "source": [
        "# Inference on single record"
      ]
    },
    {
      "cell_type": "code",
      "metadata": {
        "id": "Z-RXxjjuG9ZK",
        "colab_type": "code",
        "colab": {
          "base_uri": "https://localhost:8080/",
          "height": 68
        },
        "outputId": "6cfe6f11-12de-4e23-c6fc-7b2e87e43523"
      },
      "source": [
        "#Checking chances of single record without appending to previous record\n",
        "single_record_values = {\"GRE Score\" : [327], \"TOEFL Score\" : [95], \"University Rating\" : [4.0], \"SOP\": [3.5], \"LOR\" : [4.0], \"CGPA\": [7.96], \"Research\": [1]}\n",
        "single_rec_df = pd.DataFrame(single_record_values, columns = [\"GRE Score\",  \"TOEFL Score\",  \"University Rating\",  \"SOP\",  \"LOR\",   \"CGPA\",  \"Research\"])\n",
        "print(single_rec_df)\n",
        "\n",
        "single_chance = classifier.predict(single_rec_df)\n",
        "single_chance "
      ],
      "execution_count": 27,
      "outputs": [
        {
          "output_type": "stream",
          "text": [
            "   GRE Score  TOEFL Score  University Rating  SOP  LOR  CGPA  Research\n",
            "0        327           95                4.0  3.5  4.0  7.96         1\n"
          ],
          "name": "stdout"
        },
        {
          "output_type": "execute_result",
          "data": {
            "text/plain": [
              "array([[0.67561244]])"
            ]
          },
          "metadata": {
            "tags": []
          },
          "execution_count": 27
        }
      ]
    },
    {
      "cell_type": "markdown",
      "metadata": {
        "id": "AonwQqTgEYz-",
        "colab_type": "text"
      },
      "source": [
        "Add more values to each value list of each parameter in dictionary to get chance of muliple records without appending it to X_test"
      ]
    }
  ]
}